{
 "cells": [
  {
   "cell_type": "markdown",
   "id": "9985544d",
   "metadata": {},
   "source": [
    "### My First Program"
   ]
  },
  {
   "cell_type": "code",
   "execution_count": 1,
   "id": "ce078d4d",
   "metadata": {},
   "outputs": [
    {
     "name": "stdout",
     "output_type": "stream",
     "text": [
      "Hello World\n"
     ]
    }
   ],
   "source": [
    "print(\"Hello World\")"
   ]
  },
  {
   "cell_type": "code",
   "execution_count": 2,
   "id": "7b9746ef",
   "metadata": {},
   "outputs": [
    {
     "name": "stdout",
     "output_type": "stream",
     "text": [
      "Abhishek Sethi\n"
     ]
    }
   ],
   "source": [
    "print(\"Abhishek Sethi\")"
   ]
  },
  {
   "cell_type": "code",
   "execution_count": 1,
   "id": "936e58cd",
   "metadata": {},
   "outputs": [
    {
     "name": "stdout",
     "output_type": "stream",
     "text": [
      "Sanjivani\n"
     ]
    }
   ],
   "source": [
    "print(\"Sanjivani\")"
   ]
  },
  {
   "cell_type": "markdown",
   "id": "7036f0df",
   "metadata": {},
   "source": [
    "## Data type"
   ]
  },
  {
   "cell_type": "code",
   "execution_count": 3,
   "id": "b86bf656",
   "metadata": {},
   "outputs": [
    {
     "data": {
      "text/plain": [
       "str"
      ]
     },
     "execution_count": 3,
     "metadata": {},
     "output_type": "execute_result"
    }
   ],
   "source": [
    "name=\"Latha\"\n",
    "type(name) "
   ]
  },
  {
   "cell_type": "code",
   "execution_count": 5,
   "id": "a362f12d",
   "metadata": {},
   "outputs": [
    {
     "data": {
      "text/plain": [
       "int"
      ]
     },
     "execution_count": 5,
     "metadata": {},
     "output_type": "execute_result"
    }
   ],
   "source": [
    "X=10\n",
    "type(X)"
   ]
  },
  {
   "cell_type": "code",
   "execution_count": 6,
   "id": "3841f0b4",
   "metadata": {},
   "outputs": [
    {
     "data": {
      "text/plain": [
       "float"
      ]
     },
     "execution_count": 6,
     "metadata": {},
     "output_type": "execute_result"
    }
   ],
   "source": [
    "x=10.5\n",
    "type(x)"
   ]
  },
  {
   "cell_type": "code",
   "execution_count": 7,
   "id": "4dfbe54c",
   "metadata": {},
   "outputs": [
    {
     "data": {
      "text/plain": [
       "bool"
      ]
     },
     "execution_count": 7,
     "metadata": {},
     "output_type": "execute_result"
    }
   ],
   "source": [
    "x=True\n",
    "type(x)"
   ]
  },
  {
   "cell_type": "markdown",
   "id": "5248db72",
   "metadata": {},
   "source": [
    "## Variables"
   ]
  },
  {
   "cell_type": "code",
   "execution_count": 8,
   "id": "09d3c97b",
   "metadata": {},
   "outputs": [
    {
     "data": {
      "text/plain": [
       "'Abhishek'"
      ]
     },
     "execution_count": 8,
     "metadata": {},
     "output_type": "execute_result"
    }
   ],
   "source": [
    "name=\"Abhishek\"\n",
    "name"
   ]
  },
  {
   "cell_type": "code",
   "execution_count": 9,
   "id": "34f6c107",
   "metadata": {},
   "outputs": [
    {
     "ename": "SyntaxError",
     "evalue": "invalid syntax (680478640.py, line 1)",
     "output_type": "error",
     "traceback": [
      "\u001b[1;36m  Cell \u001b[1;32mIn[9], line 1\u001b[1;36m\u001b[0m\n\u001b[1;33m    name lists=\"Abhishek\",\"Sethi\"\u001b[0m\n\u001b[1;37m         ^\u001b[0m\n\u001b[1;31mSyntaxError\u001b[0m\u001b[1;31m:\u001b[0m invalid syntax\n"
     ]
    }
   ],
   "source": [
    "name lists=\"Abhishek\",\"Sethi\"\n",
    "name lists"
   ]
  },
  {
   "cell_type": "markdown",
   "id": "fb361754",
   "metadata": {},
   "source": [
    "### variable name should not have space"
   ]
  },
  {
   "cell_type": "code",
   "execution_count": 10,
   "id": "d7247555",
   "metadata": {},
   "outputs": [
    {
     "ename": "SyntaxError",
     "evalue": "invalid decimal literal (2330933398.py, line 1)",
     "output_type": "error",
     "traceback": [
      "\u001b[1;36m  Cell \u001b[1;32mIn[10], line 1\u001b[1;36m\u001b[0m\n\u001b[1;33m    2names=\"Abhishek\"\u001b[0m\n\u001b[1;37m    ^\u001b[0m\n\u001b[1;31mSyntaxError\u001b[0m\u001b[1;31m:\u001b[0m invalid decimal literal\n"
     ]
    }
   ],
   "source": [
    "2names=\"Abhishek\""
   ]
  },
  {
   "cell_type": "code",
   "execution_count": 13,
   "id": "c68a0d16",
   "metadata": {},
   "outputs": [
    {
     "data": {
      "text/plain": [
       "'Abhishek'"
      ]
     },
     "execution_count": 13,
     "metadata": {},
     "output_type": "execute_result"
    }
   ],
   "source": [
    "na2mes=\"Abhishek\"\n",
    "name"
   ]
  },
  {
   "cell_type": "markdown",
   "id": "fed13b6f",
   "metadata": {},
   "source": [
    "### variable name should not start with number"
   ]
  },
  {
   "cell_type": "code",
   "execution_count": 14,
   "id": "841da316",
   "metadata": {},
   "outputs": [
    {
     "data": {
      "text/plain": [
       "('Abhishek', 'Sethi')"
      ]
     },
     "execution_count": 14,
     "metadata": {},
     "output_type": "execute_result"
    }
   ],
   "source": [
    "names_lists=\"Abhishek\",\"Sethi\"\n",
    "names_lists"
   ]
  },
  {
   "cell_type": "code",
   "execution_count": 15,
   "id": "656710d2",
   "metadata": {},
   "outputs": [
    {
     "ename": "SyntaxError",
     "evalue": "cannot assign to expression here. Maybe you meant '==' instead of '='? (3009954401.py, line 1)",
     "output_type": "error",
     "traceback": [
      "\u001b[1;36m  Cell \u001b[1;32mIn[15], line 1\u001b[1;36m\u001b[0m\n\u001b[1;33m    names+lists=\"Abhishek\",\"Sethi\"\u001b[0m\n\u001b[1;37m    ^\u001b[0m\n\u001b[1;31mSyntaxError\u001b[0m\u001b[1;31m:\u001b[0m cannot assign to expression here. Maybe you meant '==' instead of '='?\n"
     ]
    }
   ],
   "source": [
    "names+lists=\"Abhishek\",\"Sethi\"\n",
    "names+lists"
   ]
  },
  {
   "cell_type": "markdown",
   "id": "bdd0b34d",
   "metadata": {},
   "source": [
    "### The only allowed special character is underscore"
   ]
  },
  {
   "cell_type": "code",
   "execution_count": 16,
   "id": "0f8146f3",
   "metadata": {},
   "outputs": [
    {
     "data": {
      "text/plain": [
       "'Abhishek'"
      ]
     },
     "execution_count": 16,
     "metadata": {},
     "output_type": "execute_result"
    }
   ],
   "source": [
    "_name=\"Abhishek\"\n",
    "_name"
   ]
  },
  {
   "cell_type": "markdown",
   "id": "228368aa",
   "metadata": {},
   "source": [
    "### Variable names can start with A-Z , a-z , _"
   ]
  },
  {
   "cell_type": "markdown",
   "id": "4122184f",
   "metadata": {},
   "source": [
    "# List"
   ]
  },
  {
   "cell_type": "code",
   "execution_count": 18,
   "id": "890cfd82",
   "metadata": {},
   "outputs": [
    {
     "data": {
      "text/plain": [
       "[1, 2, 3, 4, 0, -1, 1, 1.2, 'hi']"
      ]
     },
     "execution_count": 18,
     "metadata": {},
     "output_type": "execute_result"
    }
   ],
   "source": [
    "sample_list=[1,2,3,4,0,-1,1,1.2,'hi']\n",
    "sample_list"
   ]
  },
  {
   "cell_type": "code",
   "execution_count": 19,
   "id": "73bbeb18",
   "metadata": {},
   "outputs": [
    {
     "data": {
      "text/plain": [
       "list"
      ]
     },
     "execution_count": 19,
     "metadata": {},
     "output_type": "execute_result"
    }
   ],
   "source": [
    "type(sample_list)"
   ]
  },
  {
   "cell_type": "code",
   "execution_count": 20,
   "id": "a7c689b6",
   "metadata": {},
   "outputs": [
    {
     "data": {
      "text/plain": [
       "1"
      ]
     },
     "execution_count": 20,
     "metadata": {},
     "output_type": "execute_result"
    }
   ],
   "source": [
    "sample_list[0]"
   ]
  },
  {
   "cell_type": "code",
   "execution_count": 21,
   "id": "a7cbb4f0",
   "metadata": {},
   "outputs": [
    {
     "ename": "IndexError",
     "evalue": "list index out of range",
     "output_type": "error",
     "traceback": [
      "\u001b[1;31m---------------------------------------------------------------------------\u001b[0m",
      "\u001b[1;31mIndexError\u001b[0m                                Traceback (most recent call last)",
      "Cell \u001b[1;32mIn[21], line 1\u001b[0m\n\u001b[1;32m----> 1\u001b[0m sample_list[\u001b[38;5;241m10\u001b[39m]\n",
      "\u001b[1;31mIndexError\u001b[0m: list index out of range"
     ]
    }
   ],
   "source": [
    "sample_list[10]"
   ]
  },
  {
   "cell_type": "code",
   "execution_count": 22,
   "id": "76bc92c2",
   "metadata": {},
   "outputs": [
    {
     "data": {
      "text/plain": [
       "1"
      ]
     },
     "execution_count": 22,
     "metadata": {},
     "output_type": "execute_result"
    }
   ],
   "source": [
    "sample_list[-3]"
   ]
  },
  {
   "cell_type": "code",
   "execution_count": 23,
   "id": "33b84b22",
   "metadata": {},
   "outputs": [
    {
     "data": {
      "text/plain": [
       "[100, 2, 3, 4, 0, -1, 1, 1.2, 'hi']"
      ]
     },
     "execution_count": 23,
     "metadata": {},
     "output_type": "execute_result"
    }
   ],
   "source": [
    "sample_list[0]=100\n",
    "sample_list"
   ]
  },
  {
   "cell_type": "markdown",
   "id": "3e9173e0",
   "metadata": {},
   "source": [
    "### Square brackets\n",
    "### elements can be retrived using index\n",
    "### mutable--> can change\n",
    "### heterogenous--> multiple data types"
   ]
  },
  {
   "cell_type": "markdown",
   "id": "89289752",
   "metadata": {},
   "source": [
    "# Tuples"
   ]
  },
  {
   "cell_type": "code",
   "execution_count": 2,
   "id": "77412f2b",
   "metadata": {},
   "outputs": [
    {
     "data": {
      "text/plain": [
       "1"
      ]
     },
     "execution_count": 2,
     "metadata": {},
     "output_type": "execute_result"
    }
   ],
   "source": [
    "sample_tuple=(1,2,3,4,5)\n",
    "sample_tuple[0]"
   ]
  },
  {
   "cell_type": "code",
   "execution_count": 3,
   "id": "d295d8c2",
   "metadata": {},
   "outputs": [
    {
     "data": {
      "text/plain": [
       "5"
      ]
     },
     "execution_count": 3,
     "metadata": {},
     "output_type": "execute_result"
    }
   ],
   "source": [
    "sample_tuple[-1]"
   ]
  },
  {
   "cell_type": "code",
   "execution_count": 4,
   "id": "71467fd6",
   "metadata": {},
   "outputs": [
    {
     "ename": "TypeError",
     "evalue": "'tuple' object does not support item assignment",
     "output_type": "error",
     "traceback": [
      "\u001b[1;31m---------------------------------------------------------------------------\u001b[0m",
      "\u001b[1;31mTypeError\u001b[0m                                 Traceback (most recent call last)",
      "Cell \u001b[1;32mIn[4], line 1\u001b[0m\n\u001b[1;32m----> 1\u001b[0m sample_tuple[\u001b[38;5;241m0\u001b[39m]\u001b[38;5;241m=\u001b[39m\u001b[38;5;241m100\u001b[39m\n",
      "\u001b[1;31mTypeError\u001b[0m: 'tuple' object does not support item assignment"
     ]
    }
   ],
   "source": [
    "sample_tuple[0]=100"
   ]
  },
  {
   "cell_type": "markdown",
   "id": "8dd9dddd",
   "metadata": {},
   "source": [
    "### Tuple is immutable -> cannot make any changes\n",
    "### can write with () or no brackets"
   ]
  },
  {
   "cell_type": "markdown",
   "id": "0d2d8d6c",
   "metadata": {},
   "source": [
    "# Dictionary"
   ]
  },
  {
   "cell_type": "code",
   "execution_count": 6,
   "id": "78949c68",
   "metadata": {},
   "outputs": [
    {
     "data": {
      "text/plain": [
       "dict"
      ]
     },
     "execution_count": 6,
     "metadata": {},
     "output_type": "execute_result"
    }
   ],
   "source": [
    "dict_1={'name':\"arun\",\"hobbies\":[\"paintaing\",\"singing\"],5:2.3}\n",
    "type(dict_1)"
   ]
  },
  {
   "cell_type": "code",
   "execution_count": 7,
   "id": "96b024b9",
   "metadata": {},
   "outputs": [
    {
     "data": {
      "text/plain": [
       "{'name': 'arun', 'hobbies': ['paintaing', 'singing'], 5: 2.3}"
      ]
     },
     "execution_count": 7,
     "metadata": {},
     "output_type": "execute_result"
    }
   ],
   "source": [
    "dict_1"
   ]
  },
  {
   "cell_type": "code",
   "execution_count": 8,
   "id": "cdf6289c",
   "metadata": {},
   "outputs": [
    {
     "data": {
      "text/plain": [
       "dict_keys(['name', 'hobbies', 5])"
      ]
     },
     "execution_count": 8,
     "metadata": {},
     "output_type": "execute_result"
    }
   ],
   "source": [
    "dict_1.keys()"
   ]
  },
  {
   "cell_type": "code",
   "execution_count": 9,
   "id": "858724b5",
   "metadata": {},
   "outputs": [
    {
     "data": {
      "text/plain": [
       "dict_values(['arun', ['paintaing', 'singing'], 2.3])"
      ]
     },
     "execution_count": 9,
     "metadata": {},
     "output_type": "execute_result"
    }
   ],
   "source": [
    "dict_1.values()"
   ]
  },
  {
   "cell_type": "code",
   "execution_count": 10,
   "id": "04866751",
   "metadata": {},
   "outputs": [
    {
     "data": {
      "text/plain": [
       "['paintaing', 'singing']"
      ]
     },
     "execution_count": 10,
     "metadata": {},
     "output_type": "execute_result"
    }
   ],
   "source": [
    "dict_1['hobbies']"
   ]
  },
  {
   "cell_type": "code",
   "execution_count": 12,
   "id": "e0873b7e",
   "metadata": {},
   "outputs": [],
   "source": [
    "dict_1[\"name\"]=\"Abhishek\""
   ]
  },
  {
   "cell_type": "code",
   "execution_count": 13,
   "id": "0e24dd75",
   "metadata": {},
   "outputs": [
    {
     "data": {
      "text/plain": [
       "{'name': 'Abhishek', 'hobbies': ['paintaing', 'singing'], 5: 2.3}"
      ]
     },
     "execution_count": 13,
     "metadata": {},
     "output_type": "execute_result"
    }
   ],
   "source": [
    "dict_1"
   ]
  },
  {
   "cell_type": "markdown",
   "id": "d9e0bb0d",
   "metadata": {},
   "source": [
    "### Dictionary has Key-Value pair Data structure(DS)\n",
    "### We can rretrieve values using index\n",
    "### Mutable\n",
    "### {} are allowed"
   ]
  },
  {
   "cell_type": "code",
   "execution_count": null,
   "id": "b2776b17",
   "metadata": {},
   "outputs": [],
   "source": []
  },
  {
   "cell_type": "code",
   "execution_count": null,
   "id": "b38a2d94",
   "metadata": {},
   "outputs": [],
   "source": []
  }
 ],
 "metadata": {
  "kernelspec": {
   "display_name": "Python 3 (ipykernel)",
   "language": "python",
   "name": "python3"
  },
  "language_info": {
   "codemirror_mode": {
    "name": "ipython",
    "version": 3
   },
   "file_extension": ".py",
   "mimetype": "text/x-python",
   "name": "python",
   "nbconvert_exporter": "python",
   "pygments_lexer": "ipython3",
   "version": "3.11.5"
  }
 },
 "nbformat": 4,
 "nbformat_minor": 5
}
